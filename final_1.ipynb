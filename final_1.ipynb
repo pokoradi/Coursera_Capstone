{
 "cells": [
  {
   "cell_type": "code",
   "execution_count": 1,
   "metadata": {},
   "outputs": [],
   "source": [
    "import pandas as pd\n",
    "import numpy as np\n",
    "import matplotlib.pyplot as plt\n",
    "from unicodedata import normalize\n",
    "import types\n",
    "from botocore.client import Config\n",
    "import ibm_boto3"
   ]
  },
  {
   "cell_type": "markdown",
   "metadata": {},
   "source": [
    "### Create Data Frame from HTML"
   ]
  },
  {
   "cell_type": "code",
   "execution_count": 2,
   "metadata": {},
   "outputs": [],
   "source": [
    "data_VIE=pd.read_html('https://www.wien.gv.at/statistik/wirtschaft/tabellen/ankuenfte-bezirk-zr.html', header=1)\n"
   ]
  },
  {
   "cell_type": "code",
   "execution_count": 3,
   "metadata": {},
   "outputs": [
    {
     "data": {
      "text/html": [
       "<div>\n",
       "<style scoped>\n",
       "    .dataframe tbody tr th:only-of-type {\n",
       "        vertical-align: middle;\n",
       "    }\n",
       "\n",
       "    .dataframe tbody tr th {\n",
       "        vertical-align: top;\n",
       "    }\n",
       "\n",
       "    .dataframe thead th {\n",
       "        text-align: right;\n",
       "    }\n",
       "</style>\n",
       "<table border=\"1\" class=\"dataframe\">\n",
       "  <thead>\n",
       "    <tr style=\"text-align: right;\">\n",
       "      <th></th>\n",
       "      <th>Bezirk</th>\n",
       "      <th>2007</th>\n",
       "      <th>2008</th>\n",
       "      <th>2009</th>\n",
       "      <th>2010</th>\n",
       "      <th>2011</th>\n",
       "      <th>2012</th>\n",
       "      <th>2013</th>\n",
       "      <th>2014</th>\n",
       "      <th>2015</th>\n",
       "      <th>2016</th>\n",
       "      <th>2017</th>\n",
       "      <th>2018</th>\n",
       "      <th>2019</th>\n",
       "    </tr>\n",
       "  </thead>\n",
       "  <tbody>\n",
       "    <tr>\n",
       "      <th>0</th>\n",
       "      <td>Wien</td>\n",
       "      <td>4 235 317</td>\n",
       "      <td>4 593 960</td>\n",
       "      <td>4 385 529</td>\n",
       "      <td>4 878 654</td>\n",
       "      <td>5 227 576</td>\n",
       "      <td>5 604 522</td>\n",
       "      <td>5 836 669</td>\n",
       "      <td>6 210 888</td>\n",
       "      <td>6 589 031</td>\n",
       "      <td>6 883 512</td>\n",
       "      <td>7 099 233</td>\n",
       "      <td>7 539 810</td>\n",
       "      <td>7 926 768</td>\n",
       "    </tr>\n",
       "    <tr>\n",
       "      <th>1</th>\n",
       "      <td>1. Innere Stadt</td>\n",
       "      <td>841 697</td>\n",
       "      <td>835 643</td>\n",
       "      <td>805 043</td>\n",
       "      <td>884 628</td>\n",
       "      <td>904 464</td>\n",
       "      <td>937 411</td>\n",
       "      <td>943 716</td>\n",
       "      <td>902 413</td>\n",
       "      <td>1 001 587</td>\n",
       "      <td>1 015 959</td>\n",
       "      <td>1 090 591</td>\n",
       "      <td>1 197 254</td>\n",
       "      <td>1 275 760</td>\n",
       "    </tr>\n",
       "    <tr>\n",
       "      <th>2</th>\n",
       "      <td>2. Leopoldstadt</td>\n",
       "      <td>377 784</td>\n",
       "      <td>414 997</td>\n",
       "      <td>430 026</td>\n",
       "      <td>496 373</td>\n",
       "      <td>570 383</td>\n",
       "      <td>637 035</td>\n",
       "      <td>663 861</td>\n",
       "      <td>772 967</td>\n",
       "      <td>779 312</td>\n",
       "      <td>811 509</td>\n",
       "      <td>833 017</td>\n",
       "      <td>885 758</td>\n",
       "      <td>973 318</td>\n",
       "    </tr>\n",
       "    <tr>\n",
       "      <th>3</th>\n",
       "      <td>3. Landstraße</td>\n",
       "      <td>546 213</td>\n",
       "      <td>572 210</td>\n",
       "      <td>535 218</td>\n",
       "      <td>588 963</td>\n",
       "      <td>655 520</td>\n",
       "      <td>732 141</td>\n",
       "      <td>747 021</td>\n",
       "      <td>831 127</td>\n",
       "      <td>918 055</td>\n",
       "      <td>962 972</td>\n",
       "      <td>973 728</td>\n",
       "      <td>1 030 870</td>\n",
       "      <td>989 618</td>\n",
       "    </tr>\n",
       "    <tr>\n",
       "      <th>4</th>\n",
       "      <td>4. Wieden</td>\n",
       "      <td>165 778</td>\n",
       "      <td>170 826</td>\n",
       "      <td>162 549</td>\n",
       "      <td>186 626</td>\n",
       "      <td>236 138</td>\n",
       "      <td>240 518</td>\n",
       "      <td>237 355</td>\n",
       "      <td>261 530</td>\n",
       "      <td>277 954</td>\n",
       "      <td>294 223</td>\n",
       "      <td>293 064</td>\n",
       "      <td>302 028</td>\n",
       "      <td>326 378</td>\n",
       "    </tr>\n",
       "  </tbody>\n",
       "</table>\n",
       "</div>"
      ],
      "text/plain": [
       "            Bezirk       2007       2008       2009       2010       2011  \\\n",
       "0             Wien  4 235 317  4 593 960  4 385 529  4 878 654  5 227 576   \n",
       "1  1. Innere Stadt    841 697    835 643    805 043    884 628    904 464   \n",
       "2  2. Leopoldstadt    377 784    414 997    430 026    496 373    570 383   \n",
       "3    3. Landstraße    546 213    572 210    535 218    588 963    655 520   \n",
       "4        4. Wieden    165 778    170 826    162 549    186 626    236 138   \n",
       "\n",
       "        2012       2013       2014       2015       2016       2017  \\\n",
       "0  5 604 522  5 836 669  6 210 888  6 589 031  6 883 512  7 099 233   \n",
       "1    937 411    943 716    902 413  1 001 587  1 015 959  1 090 591   \n",
       "2    637 035    663 861    772 967    779 312    811 509    833 017   \n",
       "3    732 141    747 021    831 127    918 055    962 972    973 728   \n",
       "4    240 518    237 355    261 530    277 954    294 223    293 064   \n",
       "\n",
       "        2018       2019  \n",
       "0  7 539 810  7 926 768  \n",
       "1  1 197 254  1 275 760  \n",
       "2    885 758    973 318  \n",
       "3  1 030 870    989 618  \n",
       "4    302 028    326 378  "
      ]
     },
     "execution_count": 3,
     "metadata": {},
     "output_type": "execute_result"
    }
   ],
   "source": [
    "df=data_VIE[0]\n",
    "df.head()"
   ]
  },
  {
   "cell_type": "markdown",
   "metadata": {},
   "source": [
    "### Clean Data"
   ]
  },
  {
   "cell_type": "code",
   "execution_count": 4,
   "metadata": {},
   "outputs": [
    {
     "data": {
      "text/html": [
       "<div>\n",
       "<style scoped>\n",
       "    .dataframe tbody tr th:only-of-type {\n",
       "        vertical-align: middle;\n",
       "    }\n",
       "\n",
       "    .dataframe tbody tr th {\n",
       "        vertical-align: top;\n",
       "    }\n",
       "\n",
       "    .dataframe thead th {\n",
       "        text-align: right;\n",
       "    }\n",
       "</style>\n",
       "<table border=\"1\" class=\"dataframe\">\n",
       "  <thead>\n",
       "    <tr style=\"text-align: right;\">\n",
       "      <th></th>\n",
       "      <th>District</th>\n",
       "      <th>2019</th>\n",
       "    </tr>\n",
       "  </thead>\n",
       "  <tbody>\n",
       "    <tr>\n",
       "      <th>1</th>\n",
       "      <td>1. Innere Stadt</td>\n",
       "      <td>1 275 760</td>\n",
       "    </tr>\n",
       "    <tr>\n",
       "      <th>2</th>\n",
       "      <td>2. Leopoldstadt</td>\n",
       "      <td>973 318</td>\n",
       "    </tr>\n",
       "    <tr>\n",
       "      <th>3</th>\n",
       "      <td>3. Landstraße</td>\n",
       "      <td>989 618</td>\n",
       "    </tr>\n",
       "    <tr>\n",
       "      <th>4</th>\n",
       "      <td>4. Wieden</td>\n",
       "      <td>326 378</td>\n",
       "    </tr>\n",
       "    <tr>\n",
       "      <th>5</th>\n",
       "      <td>5. Margareten</td>\n",
       "      <td>281 207</td>\n",
       "    </tr>\n",
       "  </tbody>\n",
       "</table>\n",
       "</div>"
      ],
      "text/plain": [
       "          District       2019\n",
       "1  1. Innere Stadt  1 275 760\n",
       "2  2. Leopoldstadt    973 318\n",
       "3    3. Landstraße    989 618\n",
       "4        4. Wieden    326 378\n",
       "5    5. Margareten    281 207"
      ]
     },
     "execution_count": 4,
     "metadata": {},
     "output_type": "execute_result"
    }
   ],
   "source": [
    "df.drop(columns=['2007','2008','2009','2010', '2011', '2012','2013', '2014', '2015', '2016', '2017', '2018'], inplace=True)\n",
    "df.drop(index=0, inplace=True)\n",
    "df.rename(columns={\"Bezirk\": \"District\"}, inplace=True)\n",
    "df.head()"
   ]
  },
  {
   "cell_type": "code",
   "execution_count": 5,
   "metadata": {},
   "outputs": [
    {
     "data": {
      "text/html": [
       "<div>\n",
       "<style scoped>\n",
       "    .dataframe tbody tr th:only-of-type {\n",
       "        vertical-align: middle;\n",
       "    }\n",
       "\n",
       "    .dataframe tbody tr th {\n",
       "        vertical-align: top;\n",
       "    }\n",
       "\n",
       "    .dataframe thead th {\n",
       "        text-align: right;\n",
       "    }\n",
       "</style>\n",
       "<table border=\"1\" class=\"dataframe\">\n",
       "  <thead>\n",
       "    <tr style=\"text-align: right;\">\n",
       "      <th></th>\n",
       "      <th>District</th>\n",
       "      <th>2019</th>\n",
       "    </tr>\n",
       "  </thead>\n",
       "  <tbody>\n",
       "    <tr>\n",
       "      <th>1</th>\n",
       "      <td>Innere Stadt</td>\n",
       "      <td>1 275 760</td>\n",
       "    </tr>\n",
       "    <tr>\n",
       "      <th>2</th>\n",
       "      <td>Leopoldstadt</td>\n",
       "      <td>973 318</td>\n",
       "    </tr>\n",
       "    <tr>\n",
       "      <th>3</th>\n",
       "      <td>Landstraße</td>\n",
       "      <td>989 618</td>\n",
       "    </tr>\n",
       "    <tr>\n",
       "      <th>4</th>\n",
       "      <td>Wieden</td>\n",
       "      <td>326 378</td>\n",
       "    </tr>\n",
       "    <tr>\n",
       "      <th>5</th>\n",
       "      <td>Margareten</td>\n",
       "      <td>281 207</td>\n",
       "    </tr>\n",
       "  </tbody>\n",
       "</table>\n",
       "</div>"
      ],
      "text/plain": [
       "        District       2019\n",
       "1   Innere Stadt  1 275 760\n",
       "2   Leopoldstadt    973 318\n",
       "3     Landstraße    989 618\n",
       "4         Wieden    326 378\n",
       "5     Margareten    281 207"
      ]
     },
     "execution_count": 5,
     "metadata": {},
     "output_type": "execute_result"
    }
   ],
   "source": [
    "df.District=(df.District.str.split(\".\", n=1, expand=True)[1])\n",
    "df.head()"
   ]
  },
  {
   "cell_type": "code",
   "execution_count": 6,
   "metadata": {},
   "outputs": [
    {
     "name": "stdout",
     "output_type": "stream",
     "text": [
      "<class 'pandas.core.frame.DataFrame'>\n",
      "Int64Index: 23 entries, 1 to 23\n",
      "Data columns (total 2 columns):\n",
      " #   Column    Non-Null Count  Dtype \n",
      "---  ------    --------------  ----- \n",
      " 0   District  23 non-null     object\n",
      " 1   2019      23 non-null     int64 \n",
      "dtypes: int64(1), object(1)\n",
      "memory usage: 552.0+ bytes\n"
     ]
    }
   ],
   "source": [
    "df['2019']= df['2019'].str.replace(\" \",\"\")\n",
    "df['2019']=df['2019'].astype(int)\n",
    "df.info()"
   ]
  },
  {
   "cell_type": "code",
   "execution_count": 7,
   "metadata": {},
   "outputs": [],
   "source": [
    "df['District']= df['District'].str.replace(\"ä\",\"ae\")\n",
    "df['District']= df['District'].str.replace(\"ö\",\"oe\")\n",
    "df['District']= df['District'].str.replace(\"ß\",\"ss\")"
   ]
  },
  {
   "cell_type": "code",
   "execution_count": 8,
   "metadata": {},
   "outputs": [
    {
     "data": {
      "text/html": [
       "<div>\n",
       "<style scoped>\n",
       "    .dataframe tbody tr th:only-of-type {\n",
       "        vertical-align: middle;\n",
       "    }\n",
       "\n",
       "    .dataframe tbody tr th {\n",
       "        vertical-align: top;\n",
       "    }\n",
       "\n",
       "    .dataframe thead th {\n",
       "        text-align: right;\n",
       "    }\n",
       "</style>\n",
       "<table border=\"1\" class=\"dataframe\">\n",
       "  <thead>\n",
       "    <tr style=\"text-align: right;\">\n",
       "      <th></th>\n",
       "      <th>District</th>\n",
       "      <th>2019</th>\n",
       "    </tr>\n",
       "  </thead>\n",
       "  <tbody>\n",
       "    <tr>\n",
       "      <th>0</th>\n",
       "      <td>Innere Stadt</td>\n",
       "      <td>1275760</td>\n",
       "    </tr>\n",
       "    <tr>\n",
       "      <th>1</th>\n",
       "      <td>Leopoldstadt</td>\n",
       "      <td>973318</td>\n",
       "    </tr>\n",
       "    <tr>\n",
       "      <th>2</th>\n",
       "      <td>Landstrasse</td>\n",
       "      <td>989618</td>\n",
       "    </tr>\n",
       "    <tr>\n",
       "      <th>3</th>\n",
       "      <td>Wieden</td>\n",
       "      <td>326378</td>\n",
       "    </tr>\n",
       "    <tr>\n",
       "      <th>4</th>\n",
       "      <td>Margareten</td>\n",
       "      <td>281207</td>\n",
       "    </tr>\n",
       "  </tbody>\n",
       "</table>\n",
       "</div>"
      ],
      "text/plain": [
       "        District     2019\n",
       "0   Innere Stadt  1275760\n",
       "1   Leopoldstadt   973318\n",
       "2    Landstrasse   989618\n",
       "3         Wieden   326378\n",
       "4     Margareten   281207"
      ]
     },
     "execution_count": 8,
     "metadata": {},
     "output_type": "execute_result"
    }
   ],
   "source": [
    "df.reset_index(drop=True, inplace=True)\n",
    "df.head()"
   ]
  },
  {
   "cell_type": "code",
   "execution_count": 9,
   "metadata": {},
   "outputs": [
    {
     "data": {
      "text/html": [
       "<div>\n",
       "<style scoped>\n",
       "    .dataframe tbody tr th:only-of-type {\n",
       "        vertical-align: middle;\n",
       "    }\n",
       "\n",
       "    .dataframe tbody tr th {\n",
       "        vertical-align: top;\n",
       "    }\n",
       "\n",
       "    .dataframe thead th {\n",
       "        text-align: right;\n",
       "    }\n",
       "</style>\n",
       "<table border=\"1\" class=\"dataframe\">\n",
       "  <thead>\n",
       "    <tr style=\"text-align: right;\">\n",
       "      <th></th>\n",
       "      <th>District</th>\n",
       "      <th>2019</th>\n",
       "    </tr>\n",
       "  </thead>\n",
       "  <tbody>\n",
       "    <tr>\n",
       "      <th>0</th>\n",
       "      <td>Innere Stadt</td>\n",
       "      <td>1275760</td>\n",
       "    </tr>\n",
       "    <tr>\n",
       "      <th>2</th>\n",
       "      <td>Landstrasse</td>\n",
       "      <td>989618</td>\n",
       "    </tr>\n",
       "    <tr>\n",
       "      <th>1</th>\n",
       "      <td>Leopoldstadt</td>\n",
       "      <td>973318</td>\n",
       "    </tr>\n",
       "    <tr>\n",
       "      <th>9</th>\n",
       "      <td>Favoriten</td>\n",
       "      <td>878181</td>\n",
       "    </tr>\n",
       "    <tr>\n",
       "      <th>6</th>\n",
       "      <td>Neubau</td>\n",
       "      <td>486980</td>\n",
       "    </tr>\n",
       "  </tbody>\n",
       "</table>\n",
       "</div>"
      ],
      "text/plain": [
       "        District     2019\n",
       "0   Innere Stadt  1275760\n",
       "2    Landstrasse   989618\n",
       "1   Leopoldstadt   973318\n",
       "9      Favoriten   878181\n",
       "6         Neubau   486980"
      ]
     },
     "execution_count": 9,
     "metadata": {},
     "output_type": "execute_result"
    }
   ],
   "source": [
    "df.sort_values(by=['2019'], ascending=False, inplace=True)\n",
    "df.head()"
   ]
  },
  {
   "cell_type": "markdown",
   "metadata": {},
   "source": [
    "### Visualize the Nr. of check-ins in each district"
   ]
  },
  {
   "cell_type": "code",
   "execution_count": 10,
   "metadata": {},
   "outputs": [
    {
     "data": {
      "image/png": "[encoded data removed]",
      "text/plain": [
       "<Figure size 720x432 with 1 Axes>"
      ]
     },
     "metadata": {
      "needs_background": "light"
     },
     "output_type": "display_data"
    }
   ],
   "source": [
    "df.plot(kind='bar', x='District', figsize=(10,6))\n",
    "plt.xlabel('District')\n",
    "plt.ylabel('Million guests')\n",
    "plt.title('Guest nights in each Vienna district')\n",
    "\n",
    "plt.show()"
   ]
  },
  {
   "cell_type": "markdown",
   "metadata": {},
   "source": [
    "As it´s visible from the above plot, the 5 most visited districts are \"Innere Stadt\", \"Landstrasse\", \"Leopoldstadt\", \"Favoriten\" and \"Neubau\""
   ]
  },
  {
   "cell_type": "markdown",
   "metadata": {},
   "source": [
    "# Car Rentals in Vienna"
   ]
  },
  {
   "cell_type": "markdown",
   "metadata": {},
   "source": [
    "### load district coordinates"
   ]
  },
  {
   "cell_type": "code",
   "execution_count": 11,
   "metadata": {
    "scrolled": false
   },
   "outputs": [
    {
     "data": {
      "text/html": [
       "<div>\n",
       "<style scoped>\n",
       "    .dataframe tbody tr th:only-of-type {\n",
       "        vertical-align: middle;\n",
       "    }\n",
       "\n",
       "    .dataframe tbody tr th {\n",
       "        vertical-align: top;\n",
       "    }\n",
       "\n",
       "    .dataframe thead th {\n",
       "        text-align: right;\n",
       "    }\n",
       "</style>\n",
       "<table border=\"1\" class=\"dataframe\">\n",
       "  <thead>\n",
       "    <tr style=\"text-align: right;\">\n",
       "      <th></th>\n",
       "      <th>Bezirk</th>\n",
       "      <th>Latitude</th>\n",
       "      <th>Longitude</th>\n",
       "    </tr>\n",
       "  </thead>\n",
       "  <tbody>\n",
       "    <tr>\n",
       "      <th>0</th>\n",
       "      <td>Innere Stadt</td>\n",
       "      <td>48.209722</td>\n",
       "      <td>16.370000</td>\n",
       "    </tr>\n",
       "    <tr>\n",
       "      <th>1</th>\n",
       "      <td>Leopoldstadt</td>\n",
       "      <td>48.210278</td>\n",
       "      <td>16.412222</td>\n",
       "    </tr>\n",
       "    <tr>\n",
       "      <th>2</th>\n",
       "      <td>Landstrasse</td>\n",
       "      <td>48.196389</td>\n",
       "      <td>16.395833</td>\n",
       "    </tr>\n",
       "    <tr>\n",
       "      <th>3</th>\n",
       "      <td>Wieden</td>\n",
       "      <td>48.193056</td>\n",
       "      <td>16.370556</td>\n",
       "    </tr>\n",
       "    <tr>\n",
       "      <th>4</th>\n",
       "      <td>Margareten</td>\n",
       "      <td>48.187222</td>\n",
       "      <td>16.353056</td>\n",
       "    </tr>\n",
       "  </tbody>\n",
       "</table>\n",
       "</div>"
      ],
      "text/plain": [
       "         Bezirk   Latitude  Longitude\n",
       "0  Innere Stadt  48.209722  16.370000\n",
       "1  Leopoldstadt  48.210278  16.412222\n",
       "2   Landstrasse  48.196389  16.395833\n",
       "3        Wieden  48.193056  16.370556\n",
       "4    Margareten  48.187222  16.353056"
      ]
     },
     "execution_count": 11,
     "metadata": {},
     "output_type": "execute_result"
    }
   ],
   "source": [
    "\n",
    "def __iter__(self): return 0\n",
    "\n",
    "# @hidden_cell\n",
    "# The following code accesses a file in your IBM Cloud Object Storage. It includes your credentials.\n",
    "# You might want to remove those credentials before you share the notebook.\n",
    "client_da45e8dfcf4e445e97e4eaaff77ccb4c = ibm_boto3.client(service_name='s3',\n",
    "    ibm_api_key_id='wqnNrAet1uZnOBesbunIzcdo_wj8M4KMUMbMFMgMBn06',\n",
    "    ibm_auth_endpoint=\"https://iam.cloud.ibm.com/oidc/token\",\n",
    "    config=Config(signature_version='oauth'),\n",
    "    endpoint_url='https://s3-api.us-geo.objectstorage.service.networklayer.com')\n",
    "\n",
    "body = client_da45e8dfcf4e445e97e4eaaff77ccb4c.get_object(Bucket='courseracapstone-donotdelete-pr-prsarltz0orqtg',Key='wien_coordinates.csv')['Body']\n",
    "# add missing __iter__ method, so pandas accepts body as file-like object\n",
    "if not hasattr(body, \"__iter__\"): body.__iter__ = types.MethodType( __iter__, body )\n",
    "\n",
    "df_data_1 = pd.read_csv(body, delimiter=';')\n",
    "df_data_1.head()\n"
   ]
  },
  {
   "cell_type": "code",
   "execution_count": 12,
   "metadata": {},
   "outputs": [
    {
     "name": "stdout",
     "output_type": "stream",
     "text": [
      "<class 'pandas.core.frame.DataFrame'>\n",
      "RangeIndex: 23 entries, 0 to 22\n",
      "Data columns (total 3 columns):\n",
      " #   Column     Non-Null Count  Dtype  \n",
      "---  ------     --------------  -----  \n",
      " 0   Bezirk     23 non-null     object \n",
      " 1   Latitude   23 non-null     float64\n",
      " 2   Longitude  23 non-null     float64\n",
      "dtypes: float64(2), object(1)\n",
      "memory usage: 680.0+ bytes\n"
     ]
    }
   ],
   "source": [
    "df_data_1.info()"
   ]
  },
  {
   "cell_type": "code",
   "execution_count": 13,
   "metadata": {},
   "outputs": [],
   "source": [
    "df_data_1.rename(columns={\"Bezirk\": \"District\"}, inplace=True)"
   ]
  },
  {
   "cell_type": "markdown",
   "metadata": {},
   "source": [
    "### Create merged Data Frame with all important information"
   ]
  },
  {
   "cell_type": "code",
   "execution_count": 14,
   "metadata": {},
   "outputs": [
    {
     "data": {
      "text/html": [
       "<div>\n",
       "<style scoped>\n",
       "    .dataframe tbody tr th:only-of-type {\n",
       "        vertical-align: middle;\n",
       "    }\n",
       "\n",
       "    .dataframe tbody tr th {\n",
       "        vertical-align: top;\n",
       "    }\n",
       "\n",
       "    .dataframe thead th {\n",
       "        text-align: right;\n",
       "    }\n",
       "</style>\n",
       "<table border=\"1\" class=\"dataframe\">\n",
       "  <thead>\n",
       "    <tr style=\"text-align: right;\">\n",
       "      <th></th>\n",
       "      <th>District</th>\n",
       "      <th>2019</th>\n",
       "      <th>Latitude</th>\n",
       "      <th>Longitude</th>\n",
       "    </tr>\n",
       "  </thead>\n",
       "  <tbody>\n",
       "    <tr>\n",
       "      <th>0</th>\n",
       "      <td>Innere Stadt</td>\n",
       "      <td>1275760</td>\n",
       "      <td>48.209722</td>\n",
       "      <td>16.370000</td>\n",
       "    </tr>\n",
       "    <tr>\n",
       "      <th>2</th>\n",
       "      <td>Landstrasse</td>\n",
       "      <td>989618</td>\n",
       "      <td>48.196389</td>\n",
       "      <td>16.395833</td>\n",
       "    </tr>\n",
       "    <tr>\n",
       "      <th>1</th>\n",
       "      <td>Leopoldstadt</td>\n",
       "      <td>973318</td>\n",
       "      <td>48.210278</td>\n",
       "      <td>16.412222</td>\n",
       "    </tr>\n",
       "    <tr>\n",
       "      <th>9</th>\n",
       "      <td>Favoriten</td>\n",
       "      <td>878181</td>\n",
       "      <td>48.157778</td>\n",
       "      <td>16.359167</td>\n",
       "    </tr>\n",
       "    <tr>\n",
       "      <th>6</th>\n",
       "      <td>Neubau</td>\n",
       "      <td>486980</td>\n",
       "      <td>48.202500</td>\n",
       "      <td>16.348056</td>\n",
       "    </tr>\n",
       "  </tbody>\n",
       "</table>\n",
       "</div>"
      ],
      "text/plain": [
       "        District     2019   Latitude  Longitude\n",
       "0   Innere Stadt  1275760  48.209722  16.370000\n",
       "2    Landstrasse   989618  48.196389  16.395833\n",
       "1   Leopoldstadt   973318  48.210278  16.412222\n",
       "9      Favoriten   878181  48.157778  16.359167\n",
       "6         Neubau   486980  48.202500  16.348056"
      ]
     },
     "execution_count": 14,
     "metadata": {},
     "output_type": "execute_result"
    }
   ],
   "source": [
    "merged_df=df.join(df_data_1[[\"Latitude\", \"Longitude\"]])\n",
    "merged_df.head()"
   ]
  },
  {
   "cell_type": "code",
   "execution_count": 15,
   "metadata": {},
   "outputs": [
    {
     "name": "stdout",
     "output_type": "stream",
     "text": [
      "<class 'pandas.core.frame.DataFrame'>\n",
      "Int64Index: 23 entries, 0 to 17\n",
      "Data columns (total 4 columns):\n",
      " #   Column     Non-Null Count  Dtype  \n",
      "---  ------     --------------  -----  \n",
      " 0   District   23 non-null     object \n",
      " 1   2019       23 non-null     int64  \n",
      " 2   Latitude   23 non-null     float64\n",
      " 3   Longitude  23 non-null     float64\n",
      "dtypes: float64(2), int64(1), object(1)\n",
      "memory usage: 1.5+ KB\n"
     ]
    }
   ],
   "source": [
    "merged_df.info()"
   ]
  },
  {
   "cell_type": "markdown",
   "metadata": {},
   "source": [
    "## Let´s visualize the 5 most visited districts"
   ]
  },
  {
   "cell_type": "code",
   "execution_count": 16,
   "metadata": {},
   "outputs": [
    {
     "data": {
      "text/html": [
       "<div>\n",
       "<style scoped>\n",
       "    .dataframe tbody tr th:only-of-type {\n",
       "        vertical-align: middle;\n",
       "    }\n",
       "\n",
       "    .dataframe tbody tr th {\n",
       "        vertical-align: top;\n",
       "    }\n",
       "\n",
       "    .dataframe thead th {\n",
       "        text-align: right;\n",
       "    }\n",
       "</style>\n",
       "<table border=\"1\" class=\"dataframe\">\n",
       "  <thead>\n",
       "    <tr style=\"text-align: right;\">\n",
       "      <th></th>\n",
       "      <th>District</th>\n",
       "      <th>2019</th>\n",
       "      <th>Latitude</th>\n",
       "      <th>Longitude</th>\n",
       "    </tr>\n",
       "  </thead>\n",
       "  <tbody>\n",
       "    <tr>\n",
       "      <th>0</th>\n",
       "      <td>Innere Stadt</td>\n",
       "      <td>1275760</td>\n",
       "      <td>48.209722</td>\n",
       "      <td>16.370000</td>\n",
       "    </tr>\n",
       "    <tr>\n",
       "      <th>2</th>\n",
       "      <td>Landstrasse</td>\n",
       "      <td>989618</td>\n",
       "      <td>48.196389</td>\n",
       "      <td>16.395833</td>\n",
       "    </tr>\n",
       "    <tr>\n",
       "      <th>1</th>\n",
       "      <td>Leopoldstadt</td>\n",
       "      <td>973318</td>\n",
       "      <td>48.210278</td>\n",
       "      <td>16.412222</td>\n",
       "    </tr>\n",
       "    <tr>\n",
       "      <th>9</th>\n",
       "      <td>Favoriten</td>\n",
       "      <td>878181</td>\n",
       "      <td>48.157778</td>\n",
       "      <td>16.359167</td>\n",
       "    </tr>\n",
       "    <tr>\n",
       "      <th>6</th>\n",
       "      <td>Neubau</td>\n",
       "      <td>486980</td>\n",
       "      <td>48.202500</td>\n",
       "      <td>16.348056</td>\n",
       "    </tr>\n",
       "  </tbody>\n",
       "</table>\n",
       "</div>"
      ],
      "text/plain": [
       "        District     2019   Latitude  Longitude\n",
       "0   Innere Stadt  1275760  48.209722  16.370000\n",
       "2    Landstrasse   989618  48.196389  16.395833\n",
       "1   Leopoldstadt   973318  48.210278  16.412222\n",
       "9      Favoriten   878181  48.157778  16.359167\n",
       "6         Neubau   486980  48.202500  16.348056"
      ]
     },
     "execution_count": 16,
     "metadata": {},
     "output_type": "execute_result"
    }
   ],
   "source": [
    "merged_df.sort_values(by=['2019'], ascending=False, inplace=True)\n",
    "merged_df.head()"
   ]
  },
  {
   "cell_type": "code",
   "execution_count": 17,
   "metadata": {},
   "outputs": [
    {
     "data": {
      "text/html": [
       "<div>\n",
       "<style scoped>\n",
       "    .dataframe tbody tr th:only-of-type {\n",
       "        vertical-align: middle;\n",
       "    }\n",
       "\n",
       "    .dataframe tbody tr th {\n",
       "        vertical-align: top;\n",
       "    }\n",
       "\n",
       "    .dataframe thead th {\n",
       "        text-align: right;\n",
       "    }\n",
       "</style>\n",
       "<table border=\"1\" class=\"dataframe\">\n",
       "  <thead>\n",
       "    <tr style=\"text-align: right;\">\n",
       "      <th></th>\n",
       "      <th>District</th>\n",
       "      <th>2019</th>\n",
       "      <th>Latitude</th>\n",
       "      <th>Longitude</th>\n",
       "    </tr>\n",
       "  </thead>\n",
       "  <tbody>\n",
       "    <tr>\n",
       "      <th>0</th>\n",
       "      <td>Innere Stadt</td>\n",
       "      <td>1275760</td>\n",
       "      <td>48.209722</td>\n",
       "      <td>16.370000</td>\n",
       "    </tr>\n",
       "    <tr>\n",
       "      <th>1</th>\n",
       "      <td>Landstrasse</td>\n",
       "      <td>989618</td>\n",
       "      <td>48.196389</td>\n",
       "      <td>16.395833</td>\n",
       "    </tr>\n",
       "    <tr>\n",
       "      <th>2</th>\n",
       "      <td>Leopoldstadt</td>\n",
       "      <td>973318</td>\n",
       "      <td>48.210278</td>\n",
       "      <td>16.412222</td>\n",
       "    </tr>\n",
       "    <tr>\n",
       "      <th>3</th>\n",
       "      <td>Favoriten</td>\n",
       "      <td>878181</td>\n",
       "      <td>48.157778</td>\n",
       "      <td>16.359167</td>\n",
       "    </tr>\n",
       "    <tr>\n",
       "      <th>4</th>\n",
       "      <td>Neubau</td>\n",
       "      <td>486980</td>\n",
       "      <td>48.202500</td>\n",
       "      <td>16.348056</td>\n",
       "    </tr>\n",
       "  </tbody>\n",
       "</table>\n",
       "</div>"
      ],
      "text/plain": [
       "        District     2019   Latitude  Longitude\n",
       "0   Innere Stadt  1275760  48.209722  16.370000\n",
       "1    Landstrasse   989618  48.196389  16.395833\n",
       "2   Leopoldstadt   973318  48.210278  16.412222\n",
       "3      Favoriten   878181  48.157778  16.359167\n",
       "4         Neubau   486980  48.202500  16.348056"
      ]
     },
     "execution_count": 17,
     "metadata": {},
     "output_type": "execute_result"
    }
   ],
   "source": [
    "merged_df.reset_index(drop=True, inplace=True)\n",
    "merged_df=merged_df[:5]\n",
    "merged_df"
   ]
  },
  {
   "cell_type": "code",
   "execution_count": 18,
   "metadata": {
    "scrolled": true
   },
   "outputs": [
    {
     "name": "stdout",
     "output_type": "stream",
     "text": [
      "Requirement already satisfied: geopy in /opt/conda/envs/Python-3.7-main/lib/python3.7/site-packages (2.0.0)\n",
      "Requirement already satisfied: geographiclib<2,>=1.49 in /opt/conda/envs/Python-3.7-main/lib/python3.7/site-packages (from geopy) (1.50)\n",
      "Requirement already satisfied: folium in /opt/conda/envs/Python-3.7-main/lib/python3.7/site-packages (0.11.0)\n",
      "Requirement already satisfied: jinja2>=2.9 in /opt/conda/envs/Python-3.7-main/lib/python3.7/site-packages (from folium) (2.11.2)\n",
      "Requirement already satisfied: branca>=0.3.0 in /opt/conda/envs/Python-3.7-main/lib/python3.7/site-packages (from folium) (0.4.1)\n",
      "Requirement already satisfied: numpy in /opt/conda/envs/Python-3.7-main/lib/python3.7/site-packages (from folium) (1.18.5)\n",
      "Requirement already satisfied: requests in /opt/conda/envs/Python-3.7-main/lib/python3.7/site-packages (from folium) (2.24.0)\n",
      "Requirement already satisfied: MarkupSafe>=0.23 in /opt/conda/envs/Python-3.7-main/lib/python3.7/site-packages (from jinja2>=2.9->folium) (1.1.1)\n",
      "Requirement already satisfied: idna<3,>=2.5 in /opt/conda/envs/Python-3.7-main/lib/python3.7/site-packages (from requests->folium) (2.9)\n",
      "Requirement already satisfied: chardet<4,>=3.0.2 in /opt/conda/envs/Python-3.7-main/lib/python3.7/site-packages (from requests->folium) (3.0.4)\n",
      "Requirement already satisfied: certifi>=2017.4.17 in /opt/conda/envs/Python-3.7-main/lib/python3.7/site-packages (from requests->folium) (2020.6.20)\n",
      "Requirement already satisfied: urllib3!=1.25.0,!=1.25.1,<1.26,>=1.21.1 in /opt/conda/envs/Python-3.7-main/lib/python3.7/site-packages (from requests->folium) (1.25.9)\n"
     ]
    }
   ],
   "source": [
    "pd.set_option('display.max_columns', None)\n",
    "pd.set_option('display.max_rows', None)\n",
    "\n",
    "!pip install geopy\n",
    "from geopy.geocoders import Nominatim \n",
    "\n",
    "import requests\n",
    "\n",
    "import matplotlib.cm as cm\n",
    "import matplotlib.colors as colors\n",
    "\n",
    "!pip install folium\n",
    "import folium\n",
    "\n",
    "from pandas.io.json import json_normalize\n"
   ]
  },
  {
   "cell_type": "code",
   "execution_count": 19,
   "metadata": {
    "scrolled": true
   },
   "outputs": [
    {
     "name": "stdout",
     "output_type": "stream",
     "text": [
      "The geograpical coordinates of Vienna are 48.2083537, 16.3725042.\n"
     ]
    }
   ],
   "source": [
    "address = 'Vienna, Austria'\n",
    "\n",
    "geolocator = Nominatim(user_agent=\"vie_explorer\")\n",
    "location = geolocator.geocode(address)\n",
    "latitude = location.latitude\n",
    "longitude = location.longitude\n",
    "print('The geograpical coordinates of Vienna are {}, {}.'.format(latitude, longitude))"
   ]
  },
  {
   "cell_type": "code",
   "execution_count": 20,
   "metadata": {
    "scrolled": true
   },
   "outputs": [
    {
     "data": {
      "text/html": [
       "<div style=\"width:100%;\"><div style=\"position:relative;width:100%;height:0;padding-bottom:60%;\"><span style=\"color:#565656\">Make this Notebook Trusted to load map: File -> Trust Notebook</span><iframe src=\"about:blank\" style=\"position:absolute;width:100%;height:100%;left:0;top:0;border:none !important;\" data-html=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 onload=\"this.contentDocument.open();this.contentDocument.write(atob(this.getAttribute('data-html')));this.contentDocument.close();\" allowfullscreen webkitallowfullscreen mozallowfullscreen></iframe></div></div>"
      ],
      "text/plain": [
       "<folium.folium.Map at 0x7f890ba580d0>"
      ]
     },
     "execution_count": 20,
     "metadata": {},
     "output_type": "execute_result"
    }
   ],
   "source": [
    "map_vienna = folium.Map(location=[latitude, longitude], zoom_start=5)\n",
    "\n",
    "# add markers to map\n",
    "for lat, lng, label in zip(merged_df['Latitude'], merged_df['Longitude'], merged_df[\"District\"]):\n",
    "    label = folium.Popup(label, parse_html=True)\n",
    "    folium.CircleMarker(\n",
    "        [lat, lng],\n",
    "        radius=5,\n",
    "        popup=label,\n",
    "        color='blue',\n",
    "        fill=True,\n",
    "        fill_color='#3186cc',\n",
    "        fill_opacity=0.7,\n",
    "        parse_html=False).add_to(map_vienna)  \n",
    "    \n",
    "map_vienna\n",
    "\n"
   ]
  },
  {
   "cell_type": "markdown",
   "metadata": {},
   "source": [
    "# Get information from Foursquare"
   ]
  },
  {
   "cell_type": "code",
   "execution_count": 21,
   "metadata": {},
   "outputs": [
    {
     "name": "stdout",
     "output_type": "stream",
     "text": [
      "Your credentails:\n",
      "CLIENT_ID: VRMUPBVUWAACRH1B40VUCXYRV3UGMGAXQYNJNK1ST0VYQKTZ\n",
      "CLIENT_SECRET:WJ0GPJSTTWECW02BJE4350BCDOZYOKJFEZI0PP1R5Y1TVPWF\n"
     ]
    }
   ],
   "source": [
    "CLIENT_ID = 'VRMUPBVUWAACRH1B40VUCXYRV3UGMGAXQYNJNK1ST0VYQKTZ'\n",
    "CLIENT_SECRET = 'WJ0GPJSTTWECW02BJE4350BCDOZYOKJFEZI0PP1R5Y1TVPWF'\n",
    "VERSION = '20180605'\n",
    "LIMIT = 100\n",
    "\n",
    "print('Your credentails:')\n",
    "print('CLIENT_ID: ' + CLIENT_ID)\n",
    "print('CLIENT_SECRET:' + CLIENT_SECRET)"
   ]
  },
  {
   "cell_type": "markdown",
   "metadata": {},
   "source": [
    "## print and visualize the information about the offices"
   ]
  },
  {
   "cell_type": "code",
   "execution_count": 22,
   "metadata": {},
   "outputs": [],
   "source": [
    "def getNearbyVenues(names, latitudes, longitudes, radius=2000, query=\"Rental Car Location\"):\n",
    "    \n",
    "    venues_list=[]\n",
    "    for name, lat, lng in zip(names, latitudes, longitudes):\n",
    "        print(name)\n",
    "            \n",
    "        \n",
    "        url = 'https://api.foursquare.com/v2/venues/explore?&client_id={}&client_secret={}&v={}&ll={},{}&radius={}&limit={}&query={}'.format(\n",
    "            CLIENT_ID, \n",
    "            CLIENT_SECRET, \n",
    "            VERSION, \n",
    "            lat, \n",
    "            lng,\n",
    "            radius, \n",
    "            LIMIT,\n",
    "            query)\n",
    "            \n",
    "        \n",
    "        results = requests.get(url).json()[\"response\"]['groups'][0]['items']\n",
    "        \n",
    "        # return only relevant information for each nearby venue\n",
    "        venues_list.append([(\n",
    "            name, \n",
    "            v['venue']['name'], \n",
    "            v['venue']['location']['lat'], \n",
    "            v['venue']['location']['lng']) for v in results])\n",
    "\n",
    "    nearby_venues = pd.DataFrame([item for venue_list in venues_list for item in venue_list])\n",
    "    nearby_venues.columns = ['District', \n",
    "                  'Venue', \n",
    "                  'Latitude', \n",
    "                  'Longitude']\n",
    "    \n",
    "    return(nearby_venues)"
   ]
  },
  {
   "cell_type": "code",
   "execution_count": 23,
   "metadata": {},
   "outputs": [
    {
     "name": "stdout",
     "output_type": "stream",
     "text": [
      " Innere Stadt\n",
      " Landstrasse\n",
      " Leopoldstadt\n",
      " Favoriten\n",
      " Neubau\n"
     ]
    }
   ],
   "source": [
    "vienna_venues = getNearbyVenues(names=merged_df['District'],\n",
    "                                   latitudes=merged_df['Latitude'],\n",
    "                                   longitudes=merged_df['Longitude']\n",
    "                                  )\n"
   ]
  },
  {
   "cell_type": "code",
   "execution_count": 24,
   "metadata": {},
   "outputs": [
    {
     "name": "stdout",
     "output_type": "stream",
     "text": [
      "(28, 4)\n"
     ]
    },
    {
     "data": {
      "text/html": [
       "<div>\n",
       "<style scoped>\n",
       "    .dataframe tbody tr th:only-of-type {\n",
       "        vertical-align: middle;\n",
       "    }\n",
       "\n",
       "    .dataframe tbody tr th {\n",
       "        vertical-align: top;\n",
       "    }\n",
       "\n",
       "    .dataframe thead th {\n",
       "        text-align: right;\n",
       "    }\n",
       "</style>\n",
       "<table border=\"1\" class=\"dataframe\">\n",
       "  <thead>\n",
       "    <tr style=\"text-align: right;\">\n",
       "      <th></th>\n",
       "      <th>District</th>\n",
       "      <th>Venue</th>\n",
       "      <th>Latitude</th>\n",
       "      <th>Longitude</th>\n",
       "    </tr>\n",
       "  </thead>\n",
       "  <tbody>\n",
       "    <tr>\n",
       "      <th>0</th>\n",
       "      <td>Innere Stadt</td>\n",
       "      <td>Europcar Schubertring</td>\n",
       "      <td>48.202179</td>\n",
       "      <td>16.375251</td>\n",
       "    </tr>\n",
       "    <tr>\n",
       "      <th>1</th>\n",
       "      <td>Innere Stadt</td>\n",
       "      <td>Car 2 Go Zentrale</td>\n",
       "      <td>48.210264</td>\n",
       "      <td>16.386835</td>\n",
       "    </tr>\n",
       "    <tr>\n",
       "      <th>2</th>\n",
       "      <td>Innere Stadt</td>\n",
       "      <td>Avis Österreich</td>\n",
       "      <td>48.212826</td>\n",
       "      <td>16.361675</td>\n",
       "    </tr>\n",
       "    <tr>\n",
       "      <th>3</th>\n",
       "      <td>Innere Stadt</td>\n",
       "      <td>Budget Österreich</td>\n",
       "      <td>48.214505</td>\n",
       "      <td>16.361503</td>\n",
       "    </tr>\n",
       "    <tr>\n",
       "      <th>4</th>\n",
       "      <td>Innere Stadt</td>\n",
       "      <td>Car2go Moving Target</td>\n",
       "      <td>48.215040</td>\n",
       "      <td>16.361505</td>\n",
       "    </tr>\n",
       "  </tbody>\n",
       "</table>\n",
       "</div>"
      ],
      "text/plain": [
       "        District                  Venue   Latitude  Longitude\n",
       "0   Innere Stadt  Europcar Schubertring  48.202179  16.375251\n",
       "1   Innere Stadt      Car 2 Go Zentrale  48.210264  16.386835\n",
       "2   Innere Stadt        Avis Österreich  48.212826  16.361675\n",
       "3   Innere Stadt      Budget Österreich  48.214505  16.361503\n",
       "4   Innere Stadt   Car2go Moving Target  48.215040  16.361505"
      ]
     },
     "execution_count": 24,
     "metadata": {},
     "output_type": "execute_result"
    }
   ],
   "source": [
    "print(vienna_venues.shape)\n",
    "vienna_venues.head()"
   ]
  },
  {
   "cell_type": "markdown",
   "metadata": {},
   "source": [
    "Remove Car2Go from the results"
   ]
  },
  {
   "cell_type": "code",
   "execution_count": 25,
   "metadata": {},
   "outputs": [
    {
     "data": {
      "text/html": [
       "<div>\n",
       "<style scoped>\n",
       "    .dataframe tbody tr th:only-of-type {\n",
       "        vertical-align: middle;\n",
       "    }\n",
       "\n",
       "    .dataframe tbody tr th {\n",
       "        vertical-align: top;\n",
       "    }\n",
       "\n",
       "    .dataframe thead th {\n",
       "        text-align: right;\n",
       "    }\n",
       "</style>\n",
       "<table border=\"1\" class=\"dataframe\">\n",
       "  <thead>\n",
       "    <tr style=\"text-align: right;\">\n",
       "      <th></th>\n",
       "      <th>District</th>\n",
       "      <th>Venue</th>\n",
       "      <th>Latitude</th>\n",
       "      <th>Longitude</th>\n",
       "    </tr>\n",
       "  </thead>\n",
       "  <tbody>\n",
       "    <tr>\n",
       "      <th>0</th>\n",
       "      <td>Innere Stadt</td>\n",
       "      <td>Europcar Schubertring</td>\n",
       "      <td>48.202179</td>\n",
       "      <td>16.375251</td>\n",
       "    </tr>\n",
       "    <tr>\n",
       "      <th>2</th>\n",
       "      <td>Innere Stadt</td>\n",
       "      <td>Avis Österreich</td>\n",
       "      <td>48.212826</td>\n",
       "      <td>16.361675</td>\n",
       "    </tr>\n",
       "    <tr>\n",
       "      <th>3</th>\n",
       "      <td>Innere Stadt</td>\n",
       "      <td>Budget Österreich</td>\n",
       "      <td>48.214505</td>\n",
       "      <td>16.361503</td>\n",
       "    </tr>\n",
       "    <tr>\n",
       "      <th>5</th>\n",
       "      <td>Innere Stadt</td>\n",
       "      <td>Hertz</td>\n",
       "      <td>48.201559</td>\n",
       "      <td>16.373967</td>\n",
       "    </tr>\n",
       "    <tr>\n",
       "      <th>6</th>\n",
       "      <td>Innere Stadt</td>\n",
       "      <td>Sixt Rent A Car</td>\n",
       "      <td>48.205939</td>\n",
       "      <td>16.383587</td>\n",
       "    </tr>\n",
       "    <tr>\n",
       "      <th>7</th>\n",
       "      <td>Landstrasse</td>\n",
       "      <td>Europcar Schubertring</td>\n",
       "      <td>48.202179</td>\n",
       "      <td>16.375251</td>\n",
       "    </tr>\n",
       "    <tr>\n",
       "      <th>9</th>\n",
       "      <td>Landstrasse</td>\n",
       "      <td>Buchbinder</td>\n",
       "      <td>48.192702</td>\n",
       "      <td>16.403542</td>\n",
       "    </tr>\n",
       "    <tr>\n",
       "      <th>10</th>\n",
       "      <td>Landstrasse</td>\n",
       "      <td>Interrent Wien Schlachthausgasse</td>\n",
       "      <td>48.192569</td>\n",
       "      <td>16.403437</td>\n",
       "    </tr>\n",
       "    <tr>\n",
       "      <th>11</th>\n",
       "      <td>Landstrasse</td>\n",
       "      <td>Sixt Rent A Car</td>\n",
       "      <td>48.205939</td>\n",
       "      <td>16.383587</td>\n",
       "    </tr>\n",
       "    <tr>\n",
       "      <th>12</th>\n",
       "      <td>Landstrasse</td>\n",
       "      <td>Dollar Rent A Car</td>\n",
       "      <td>48.184616</td>\n",
       "      <td>16.404453</td>\n",
       "    </tr>\n",
       "    <tr>\n",
       "      <th>13</th>\n",
       "      <td>Landstrasse</td>\n",
       "      <td>MEGADRIVE</td>\n",
       "      <td>48.190081</td>\n",
       "      <td>16.414347</td>\n",
       "    </tr>\n",
       "    <tr>\n",
       "      <th>14</th>\n",
       "      <td>Landstrasse</td>\n",
       "      <td>Interrent Wien</td>\n",
       "      <td>48.190227</td>\n",
       "      <td>16.415178</td>\n",
       "    </tr>\n",
       "    <tr>\n",
       "      <th>15</th>\n",
       "      <td>Landstrasse</td>\n",
       "      <td>Hertz</td>\n",
       "      <td>48.201559</td>\n",
       "      <td>16.373967</td>\n",
       "    </tr>\n",
       "    <tr>\n",
       "      <th>16</th>\n",
       "      <td>Landstrasse</td>\n",
       "      <td>Dollar Rent A Car</td>\n",
       "      <td>48.185387</td>\n",
       "      <td>16.377142</td>\n",
       "    </tr>\n",
       "    <tr>\n",
       "      <th>17</th>\n",
       "      <td>Landstrasse</td>\n",
       "      <td>Thrifty Car Rental</td>\n",
       "      <td>48.185385</td>\n",
       "      <td>16.377121</td>\n",
       "    </tr>\n",
       "    <tr>\n",
       "      <th>18</th>\n",
       "      <td>Landstrasse</td>\n",
       "      <td>Budget Österreich</td>\n",
       "      <td>48.185488</td>\n",
       "      <td>16.376839</td>\n",
       "    </tr>\n",
       "    <tr>\n",
       "      <th>19</th>\n",
       "      <td>Landstrasse</td>\n",
       "      <td>Sixt Rent A Car</td>\n",
       "      <td>48.186017</td>\n",
       "      <td>16.375900</td>\n",
       "    </tr>\n",
       "    <tr>\n",
       "      <th>20</th>\n",
       "      <td>Landstrasse</td>\n",
       "      <td>Europcar</td>\n",
       "      <td>48.184217</td>\n",
       "      <td>16.376983</td>\n",
       "    </tr>\n",
       "    <tr>\n",
       "      <th>22</th>\n",
       "      <td>Favoriten</td>\n",
       "      <td>Car Hire in Wien South - InterRent</td>\n",
       "      <td>48.145625</td>\n",
       "      <td>16.341348</td>\n",
       "    </tr>\n",
       "    <tr>\n",
       "      <th>23</th>\n",
       "      <td>Neubau</td>\n",
       "      <td>Sixt Rent A Car</td>\n",
       "      <td>48.197360</td>\n",
       "      <td>16.337167</td>\n",
       "    </tr>\n",
       "    <tr>\n",
       "      <th>24</th>\n",
       "      <td>Neubau</td>\n",
       "      <td>Avis Österreich</td>\n",
       "      <td>48.212826</td>\n",
       "      <td>16.361675</td>\n",
       "    </tr>\n",
       "    <tr>\n",
       "      <th>25</th>\n",
       "      <td>Neubau</td>\n",
       "      <td>Budget Österreich</td>\n",
       "      <td>48.214505</td>\n",
       "      <td>16.361503</td>\n",
       "    </tr>\n",
       "    <tr>\n",
       "      <th>27</th>\n",
       "      <td>Neubau</td>\n",
       "      <td>Hertz</td>\n",
       "      <td>48.201559</td>\n",
       "      <td>16.373967</td>\n",
       "    </tr>\n",
       "  </tbody>\n",
       "</table>\n",
       "</div>"
      ],
      "text/plain": [
       "         District                               Venue   Latitude  Longitude\n",
       "0    Innere Stadt               Europcar Schubertring  48.202179  16.375251\n",
       "2    Innere Stadt                     Avis Österreich  48.212826  16.361675\n",
       "3    Innere Stadt                   Budget Österreich  48.214505  16.361503\n",
       "5    Innere Stadt                               Hertz  48.201559  16.373967\n",
       "6    Innere Stadt                     Sixt Rent A Car  48.205939  16.383587\n",
       "7     Landstrasse               Europcar Schubertring  48.202179  16.375251\n",
       "9     Landstrasse                          Buchbinder  48.192702  16.403542\n",
       "10    Landstrasse    Interrent Wien Schlachthausgasse  48.192569  16.403437\n",
       "11    Landstrasse                     Sixt Rent A Car  48.205939  16.383587\n",
       "12    Landstrasse                   Dollar Rent A Car  48.184616  16.404453\n",
       "13    Landstrasse                           MEGADRIVE  48.190081  16.414347\n",
       "14    Landstrasse                      Interrent Wien  48.190227  16.415178\n",
       "15    Landstrasse                               Hertz  48.201559  16.373967\n",
       "16    Landstrasse                   Dollar Rent A Car  48.185387  16.377142\n",
       "17    Landstrasse                  Thrifty Car Rental  48.185385  16.377121\n",
       "18    Landstrasse                   Budget Österreich  48.185488  16.376839\n",
       "19    Landstrasse                     Sixt Rent A Car  48.186017  16.375900\n",
       "20    Landstrasse                            Europcar  48.184217  16.376983\n",
       "22      Favoriten  Car Hire in Wien South - InterRent  48.145625  16.341348\n",
       "23         Neubau                     Sixt Rent A Car  48.197360  16.337167\n",
       "24         Neubau                     Avis Österreich  48.212826  16.361675\n",
       "25         Neubau                   Budget Österreich  48.214505  16.361503\n",
       "27         Neubau                               Hertz  48.201559  16.373967"
      ]
     },
     "execution_count": 25,
     "metadata": {},
     "output_type": "execute_result"
    }
   ],
   "source": [
    "vienna_venues=vienna_venues[~vienna_venues.Venue.str.contains(\"2\")]\n",
    "vienna_venues"
   ]
  },
  {
   "cell_type": "code",
   "execution_count": 26,
   "metadata": {},
   "outputs": [
    {
     "data": {
      "text/plain": [
       " Landstrasse     13\n",
       " Innere Stadt     5\n",
       " Neubau           4\n",
       " Favoriten        1\n",
       "Name: District, dtype: int64"
      ]
     },
     "execution_count": 26,
     "metadata": {},
     "output_type": "execute_result"
    }
   ],
   "source": [
    "vienna_venues.District.value_counts()"
   ]
  },
  {
   "cell_type": "code",
   "execution_count": 27,
   "metadata": {},
   "outputs": [
    {
     "data": {
      "text/html": [
       "<div style=\"width:100%;\"><div style=\"position:relative;width:100%;height:0;padding-bottom:60%;\"><span style=\"color:#565656\">Make this Notebook Trusted to load map: File -> Trust Notebook</span><iframe src=\"about:blank\" style=\"position:absolute;width:100%;height:100%;left:0;top:0;border:none !important;\" data-html=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 onload=\"this.contentDocument.open();this.contentDocument.write(atob(this.getAttribute('data-html')));this.contentDocument.close();\" allowfullscreen webkitallowfullscreen mozallowfullscreen></iframe></div></div>"
      ],
      "text/plain": [
       "<folium.folium.Map at 0x7f890b9f2610>"
      ]
     },
     "execution_count": 27,
     "metadata": {},
     "output_type": "execute_result"
    }
   ],
   "source": [
    "map_rental = folium.Map(location=[latitude, longitude], zoom_start=11)\n",
    "\n",
    "# add markers to map\n",
    "for lat, lng, label in zip(vienna_venues['Latitude'], vienna_venues['Longitude'], vienna_venues[\"Venue\"]):\n",
    "    label = folium.Popup(label, parse_html=True)\n",
    "    folium.CircleMarker(\n",
    "        [lat, lng],\n",
    "        radius=5,\n",
    "        popup=label,\n",
    "        color='blue',\n",
    "        fill=True,\n",
    "        fill_color='#3186cc',\n",
    "        fill_opacity=0.7,\n",
    "        parse_html=False).add_to(map_rental)  \n",
    "    \n",
    "map_rental\n"
   ]
  },
  {
   "cell_type": "code",
   "execution_count": null,
   "metadata": {},
   "outputs": [],
   "source": []
  }
 ],
 "metadata": {
  "kernelspec": {
   "display_name": "Python 3.7",
   "language": "python",
   "name": "python3"
  },
  "language_info": {
   "codemirror_mode": {
    "name": "ipython",
    "version": 3
   },
   "file_extension": ".py",
   "mimetype": "text/x-python",
   "name": "python",
   "nbconvert_exporter": "python",
   "pygments_lexer": "ipython3",
   "version": "3.7.9"
  }
 },
 "nbformat": 4,
 "nbformat_minor": 1
}
